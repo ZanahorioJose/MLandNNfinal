{
 "cells": [
  {
   "cell_type": "markdown",
   "metadata": {
    "collapsed": true,
    "pycharm": {
     "name": "#%% md\n"
    }
   },
   "source": [
    "### 连续型Hopfield神经网络求解TSP"
   ]
  },
  {
   "cell_type": "code",
   "execution_count": 1,
   "outputs": [],
   "source": [
    "import numpy as np\n",
    "from matplotlib import pyplot as plt"
   ],
   "metadata": {
    "collapsed": false,
    "pycharm": {
     "name": "#%%\n"
    }
   }
  },
  {
   "cell_type": "markdown",
   "source": [
    "0.给定初始的城市数值."
   ],
   "metadata": {
    "collapsed": false,
    "pycharm": {
     "name": "#%% md\n"
    }
   }
  },
  {
   "cell_type": "code",
   "execution_count": 3,
   "outputs": [],
   "source": [
    "def price_cn(vec1, vec2):\n",
    "    return np.linalg.norm(np.array(vec1) - np.array(vec2))\n",
    "\n",
    "def calc_distance(path):\n",
    "    dis = 0.0\n",
    "    for i in range(len(path) - 1):\n",
    "        dis += distance[path[i]][path[i+1]]\n",
    "    return dis\n",
    "\n",
    "# 得到城市之间的距离矩阵\n",
    "def get_distance(citys):\n",
    "    N = len(citys)\n",
    "    distance = np.zeros((N, N))\n",
    "    for i, curr_point in enumerate(citys):\n",
    "        line = []\n",
    "        [line.append(price_cn(curr_point, other_point)) if i != j else line.append(0.0) for j, other_point in enumerate(citys)]\n",
    "        distance[i] = line\n",
    "    return distance"
   ],
   "metadata": {
    "collapsed": false,
    "pycharm": {
     "name": "#%%\n"
    }
   }
  },
  {
   "cell_type": "markdown",
   "source": [
    "1.初始化参数"
   ],
   "metadata": {
    "collapsed": false,
    "pycharm": {
     "name": "#%% md\n"
    }
   }
  },
  {
   "cell_type": "markdown",
   "source": [
    "2.初始化神经网络的当前状态U_ik和输出V_ik"
   ],
   "metadata": {
    "collapsed": false,
    "pycharm": {
     "name": "#%% md\n"
    }
   }
  },
  {
   "cell_type": "code",
   "execution_count": 3,
   "outputs": [],
   "source": [],
   "metadata": {
    "collapsed": false,
    "pycharm": {
     "name": "#%%\n"
    }
   }
  },
  {
   "cell_type": "markdown",
   "source": [
    "3.利用动力微分方程计算：dUik/dt"
   ],
   "metadata": {
    "collapsed": false,
    "pycharm": {
     "name": "#%% md\n"
    }
   }
  },
  {
   "cell_type": "code",
   "execution_count": 4,
   "outputs": [],
   "source": [
    "def get_du(V, distance):\n",
    "    a = np.sum(V, axis=0) # 按列相加\n",
    "    b = np.sum(V, axis=1) # 按行相加\n",
    "    c = np.sum(np.sum(V)) - N # 全部元素相加\n",
    "    t1 = np.zeros((N, N))\n",
    "    t2 = np.zeros((N, N))\n",
    "    t3 = np.zeros((N, N))\n",
    "    for i in range(N):\n",
    "        for j in range(N):\n",
    "            t1[i, j] = a[j]\n",
    "            t2[j, i] = b[j]\n",
    "            t3[i, j] = c\n",
    "\n",
    "    d_1 = V[:, 1:N]\n",
    "    d_0 = np.zeros((N, 1))\n",
    "    d_0[:, 0] = V[:, 0]\n",
    "    d = np.concatenate((d_1, d_0), axis=1)\n",
    "    t4 = np.dot(distance, d)\n",
    "\n",
    "    return -A * t1 - B * t2 - C * t3 - D * t4"
   ],
   "metadata": {
    "collapsed": false,
    "pycharm": {
     "name": "#%%\n"
    }
   }
  },
  {
   "cell_type": "markdown",
   "source": [
    "4.由一阶欧拉方法更新计算：Uik(t+1) = Uik(t) + dUik/dt * tau"
   ],
   "metadata": {
    "collapsed": false,
    "pycharm": {
     "name": "#%% md\n"
    }
   }
  },
  {
   "cell_type": "code",
   "execution_count": 5,
   "outputs": [],
   "source": [
    "def get_U(U, du, step):\n",
    "    return U + du*step"
   ],
   "metadata": {
    "collapsed": false,
    "pycharm": {
     "name": "#%%\n"
    }
   }
  },
  {
   "cell_type": "markdown",
   "source": [
    "5.由非线性函数sigmoid更新计算：Vxi(t) = 0.5 * (1 + th(Uxi/U0))"
   ],
   "metadata": {
    "collapsed": false,
    "pycharm": {
     "name": "#%% md\n"
    }
   }
  },
  {
   "cell_type": "code",
   "execution_count": 6,
   "outputs": [],
   "source": [
    "def get_V(U, U0):\n",
    "    return 1/2 * (1 + np.tanh(U/U0))"
   ],
   "metadata": {
    "collapsed": false,
    "pycharm": {
     "name": "#%%\n"
    }
   }
  },
  {
   "cell_type": "markdown",
   "source": [
    "6.计算能量函数E"
   ],
   "metadata": {
    "collapsed": false,
    "pycharm": {
     "name": "#%% md\n"
    }
   }
  },
  {
   "cell_type": "code",
   "execution_count": 7,
   "outputs": [],
   "source": [
    "def get_energy(V, distance):\n",
    "    N = distance.shape[0]\n",
    "    t1 = np.sum(np.power(np.sum(V, axis=0) - 1, 2))\n",
    "    t2 = np.sum(np.power(np.sum(V, axis=1) - 1, 2))\n",
    "    idx = [i for i in range(1, N)]\n",
    "    idx = idx + [0]\n",
    "    Vt = V[:, idx]\n",
    "    t4 = distance * Vt\n",
    "    t4 = np.sum(np.sum(np.multiply(V, t4)))\n",
    "    e = 0.5 * (A * t1 + B * t2 + C * (np.sum(np.sum(V)) - N)+ D * t4)\n",
    "    return e"
   ],
   "metadata": {
    "collapsed": false,
    "pycharm": {
     "name": "#%%\n"
    }
   }
  },
  {
   "cell_type": "markdown",
   "source": [
    "7.检查路径是否合法"
   ],
   "metadata": {
    "collapsed": false,
    "pycharm": {
     "name": "#%% md\n"
    }
   }
  },
  {
   "cell_type": "code",
   "execution_count": 8,
   "outputs": [],
   "source": [
    "def check_path(V):\n",
    "    newV = np.zeros([N, N])\n",
    "    route = []\n",
    "    for i in range(N):\n",
    "        mm = np.max(V[:, i])\n",
    "        for j in range(N):\n",
    "            if V[j, i] == mm:\n",
    "                newV[j, i] = 1\n",
    "                route += [j]\n",
    "                break\n",
    "    return route, newV\n"
   ],
   "metadata": {
    "collapsed": false,
    "pycharm": {
     "name": "#%%\n"
    }
   }
  },
  {
   "cell_type": "markdown",
   "source": [
    "9.画图"
   ],
   "metadata": {
    "collapsed": false,
    "pycharm": {
     "name": "#%% md\n"
    }
   }
  },
  {
   "cell_type": "code",
   "execution_count": 9,
   "outputs": [],
   "source": [
    "def draw_E(energys):\n",
    "    fig = plt.figure()\n",
    "    plt.subplot(111)\n",
    "    plt.plot(np.arange(0, len(energys), 1), energys, color='red')\n"
   ],
   "metadata": {
    "collapsed": false,
    "pycharm": {
     "name": "#%%\n"
    }
   }
  },
  {
   "cell_type": "markdown",
   "source": [
    "#### 主函数"
   ],
   "metadata": {
    "collapsed": false,
    "pycharm": {
     "name": "#%% md\n"
    }
   }
  },
  {
   "cell_type": "code",
   "execution_count": 10,
   "outputs": [],
   "source": [
    "distance = np.array([[ 0, 2, 6, 7,14, 5, 9],\n",
    "                     [ 2, 0, 7, 4,13, 9, 1],\n",
    "                     [ 6, 7, 0,20, 3, 8, 5],\n",
    "                     [ 7, 4,20, 0, 6, 4,12],\n",
    "                     [14,13, 3, 6, 0, 8, 2],\n",
    "                     [ 5, 9, 8, 4, 8, 0, 5],\n",
    "                     [ 9, 1, 5,12, 2, 5, 0]])"
   ],
   "metadata": {
    "collapsed": false,
    "pycharm": {
     "name": "#%%\n"
    }
   }
  },
  {
   "cell_type": "code",
   "execution_count": 21,
   "outputs": [
    {
     "name": "stdout",
     "output_type": "stream",
     "text": [
      "第289次迭代找到的次优解距离为：26.0，能量为：22.19170462335204，路径为：\n",
      "g,f,d,b,a,c,e,g\n",
      "第891次迭代找到的次优解距离为：25.0，能量为：96.25698959104224，路径为：\n",
      "d,b,g,e,c,a,f,d\n"
     ]
    },
    {
     "data": {
      "text/plain": "<Figure size 432x288 with 1 Axes>",
      "image/png": "[encoded data removed]"
     },
     "metadata": {
      "needs_background": "light"
     },
     "output_type": "display_data"
    }
   ],
   "source": [
    "N = distance.shape[0]\n",
    "A = N*N\n",
    "B = N*N\n",
    "C = N*N\n",
    "D = N/2\n",
    "\n",
    "U0 = 0.0009\n",
    "tau = 0.0001\n",
    "iters = 1000\n",
    "\n",
    "U = 1/2 * U0 * np.log(N-1) + 2 * np.random.random((N,N)) - 1\n",
    "V = get_V(U, U0)\n",
    "\n",
    "energys = np.array([0.0 for i in range(iters)])\n",
    "best_distance = np.inf\n",
    "best_route = []\n",
    "\n",
    "\n",
    "for iter in range(iters):\n",
    "    du = get_du(V, distance)\n",
    "    U = get_U(U, du, tau)\n",
    "    V = get_V(U, U0)\n",
    "    energys[iter] = get_energy(V, distance)\n",
    "    route, newV = check_path(V)\n",
    "\n",
    "    if len(np.unique(route)) == N:\n",
    "        route.append(route[0])\n",
    "        dis = calc_distance(route)\n",
    "        if dis < best_distance:\n",
    "            H_path = []\n",
    "            best_distance = dis\n",
    "            best_route = route\n",
    "            [H_path.append((route[i], route[i + 1])) for i in range(len(route) - 1)]\n",
    "            print('第{}次迭代找到的次优解距离为：{}，能量为：{}，路径为：'.format(iter, best_distance, energys[iter]))\n",
    "            [print(chr(97 + v), end=',' if i < len(best_route) - 1 else '\\n') for i, v in enumerate(best_route)]\n",
    "\n",
    "if len(H_path) > 0:\n",
    "      draw_E(energys)\n",
    "else:\n",
    "    print('没有找到最优解')"
   ],
   "metadata": {
    "collapsed": false,
    "pycharm": {
     "name": "#%%\n"
    }
   }
  },
  {
   "cell_type": "code",
   "execution_count": 83,
   "outputs": [],
   "source": [],
   "metadata": {
    "collapsed": false,
    "pycharm": {
     "name": "#%%\n"
    }
   }
  },
  {
   "cell_type": "code",
   "execution_count": null,
   "outputs": [],
   "source": [],
   "metadata": {
    "collapsed": false,
    "pycharm": {
     "name": "#%%\n"
    }
   }
  }
 ],
 "metadata": {
  "kernelspec": {
   "display_name": "Python 3",
   "language": "python",
   "name": "python3"
  },
  "language_info": {
   "codemirror_mode": {
    "name": "ipython",
    "version": 2
   },
   "file_extension": ".py",
   "mimetype": "text/x-python",
   "name": "python",
   "nbconvert_exporter": "python",
   "pygments_lexer": "ipython2",
   "version": "2.7.6"
  }
 },
 "nbformat": 4,
 "nbformat_minor": 0
}